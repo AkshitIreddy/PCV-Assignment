{
 "cells": [
  {
   "cell_type": "code",
   "execution_count": null,
   "metadata": {},
   "outputs": [],
   "source": [
    "#!pip install moviepy"
   ]
  },
  {
   "cell_type": "code",
   "execution_count": null,
   "metadata": {},
   "outputs": [],
   "source": [
    "from moviepy.editor import VideoFileClip, AudioFileClip, clips_array\n",
    "import os\n",
    "\n",
    "def combine_media(gif_mp4_paths, mp3_paths, output_folder):\n",
    "    if len(gif_mp4_paths) != len(mp3_paths):\n",
    "        raise ValueError(\"The two lists must have the same number of elements.\")\n",
    "\n",
    "    combined_clips = []\n",
    "\n",
    "    for gif_mp4_path, mp3_path in zip(gif_mp4_paths, mp3_paths):\n",
    "        if gif_mp4_path.endswith('.gif'):\n",
    "            clip = VideoFileClip(gif_mp4_path)\n",
    "        elif gif_mp4_path.endswith('.mp4'):\n",
    "            clip = VideoFileClip(gif_mp4_path)\n",
    "\n",
    "        if mp3_path:\n",
    "            audio_clip = AudioFileClip(mp3_path)\n",
    "            clip = clip.set_audio(audio_clip)\n",
    "\n",
    "        combined_clips.append(clip)\n",
    "\n",
    "    final_clip = clips_array([combined_clips])\n",
    "    output_path = os.path.join(output_folder, 'combined_output.mp4')\n",
    "    final_clip.write_videofile(output_path, codec='libx264')\n",
    "\n",
    "gif_mp4_paths = ['video1.mp4', 'animation.gif', 'video2.mp4']\n",
    "mp3_paths = ['audio1.mp3', '', 'audio2.mp3']\n",
    "output_folder = 'output_video'\n",
    "\n",
    "combine_media(gif_mp4_paths, mp3_paths, output_folder)\n"
   ]
  }
 ],
 "metadata": {
  "language_info": {
   "name": "python"
  }
 },
 "nbformat": 4,
 "nbformat_minor": 2
}
