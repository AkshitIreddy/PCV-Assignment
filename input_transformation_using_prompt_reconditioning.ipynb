{
 "cells": [
  {
   "cell_type": "code",
   "execution_count": 1,
   "metadata": {},
   "outputs": [],
   "source": [
    "#!pip install ultralytics "
   ]
  },
  {
   "cell_type": "code",
   "execution_count": 2,
   "metadata": {},
   "outputs": [],
   "source": [
    "formatted_llm_lines = [{'animatediff': 'Imagine a dark and gritty street in the heart of a city, the sounds of traffic and people bustling by. The scene is lit by the neon lights of nearby businesses.'},\n",
    "  {'sadtalker': 'John Wick, a legendary assassin, stands in the middle of the street, his eyes cold and his face impassive. He is wearing a black suit and holding a gun in his hand. He says, <dialogue>\"I\\'m going to kill them all\"</dialogue> (male).'},\n",
    "  {'animatediff': 'John Wick is a deadly assassin, known for his prowess in taking down his targets with precision and efficiency. He is a man on a mission, and he will stop at nothing to get what he wants. With his gun at the ready, he stalks the streets, searching for his next target.'}]\n",
    "\n",
    "reference_images_directory = 'reference_images/John Wick in the streets'"
   ]
  },
  {
   "cell_type": "code",
   "execution_count": 3,
   "metadata": {},
   "outputs": [
    {
     "name": "stderr",
     "output_type": "stream",
     "text": [
      "\n",
      "image 1/1 c:\\Users\\akshi\\Desktop\\MIT\\pcv project\\code\\reference_images\\John Wick in the streets\\1.jpg: 640x640 4 persons, 1 car, 1 traffic light, 4.0ms\n",
      "Speed: 6.5ms preprocess, 4.0ms inference, 200.8ms postprocess per image at shape (1, 3, 640, 640)\n",
      "\n",
      "image 1/1 c:\\Users\\akshi\\Desktop\\MIT\\pcv project\\code\\reference_images\\John Wick in the streets\\2.jpg: 640x640 2 persons, 2 cars, 1 umbrella, 1 tie, 5.0ms\n",
      "Speed: 2.5ms preprocess, 5.0ms inference, 2.0ms postprocess per image at shape (1, 3, 640, 640)\n",
      "\n",
      "image 1/1 c:\\Users\\akshi\\Desktop\\MIT\\pcv project\\code\\reference_images\\John Wick in the streets\\3.jpg: 640x640 1 person, 1 tie, 1 cell phone, 4.0ms\n",
      "Speed: 3.5ms preprocess, 4.0ms inference, 2.0ms postprocess per image at shape (1, 3, 640, 640)\n"
     ]
    }
   ],
   "source": [
    "from ultralytics import YOLO\n",
    "\n",
    "# Load a model\n",
    "model = YOLO('yolov8n.pt')  \n",
    "\n",
    "def input_transformation(formatted_llm_lines, reference_image_directory):\n",
    "    \"\"\"\n",
    "    Update descriptions in a dictionary of formatted LLM lines based on detected objects in reference images.\n",
    "\n",
    "    Args:\n",
    "    formatted_llm_lines (list[dict]): A list of dictionaries containing formatted LLM lines.\n",
    "    reference_image_directory (str): The directory containing reference images.\n",
    "\n",
    "    Returns:\n",
    "    list[dict]: The updated list of formatted LLM lines with enhanced descriptions.\n",
    "    \"\"\"\n",
    "    for i, line in enumerate(formatted_llm_lines):\n",
    "        # Predict with the model\n",
    "        image_path = f'{reference_image_directory}/{i + 1}.jpg'\n",
    "        results = model(image_path)  # predict on an image\n",
    "\n",
    "        # Initialize a set to store detected object names\n",
    "        detected_objects = set()\n",
    "\n",
    "        if 'animatediff' in line:\n",
    "            existing_description = line['animatediff']\n",
    "        elif 'sadtalker' in line:\n",
    "            existing_description = line['sadtalker']\n",
    "        else:\n",
    "            existing_description = \"\"\n",
    "\n",
    "        for box in results[0].boxes:\n",
    "            class_id = results[0].names[box.cls[0].item()]\n",
    "            conf = round(box.conf[0].item(), 2)\n",
    "\n",
    "            # Check if the probability is greater than or equal to 0.3 and the object hasn't been added\n",
    "            if conf >= 0.3 and class_id not in detected_objects:\n",
    "                detected_objects.add(class_id)\n",
    "                if existing_description:\n",
    "                    existing_description += ', ' + class_id\n",
    "                else:\n",
    "                    existing_description += class_id\n",
    "\n",
    "        # Update the existing value in the dictionary\n",
    "        if 'animatediff' in line:\n",
    "            line['animatediff'] = existing_description\n",
    "        elif 'sadtalker' in line:\n",
    "            line['sadtalker'] = existing_description\n",
    "\n",
    "    return formatted_llm_lines\n",
    "\n",
    "# Call the function to update the dictionary\n",
    "formatted_llm_lines = input_transformation(formatted_llm_lines, reference_images_directory)\n"
   ]
  },
  {
   "cell_type": "code",
   "execution_count": 4,
   "metadata": {},
   "outputs": [
    {
     "data": {
      "text/plain": [
       "[{'animatediff': 'Imagine a dark and gritty street in the heart of a city, the sounds of traffic and people bustling by. The scene is lit by the neon lights of nearby businesses., car, person, traffic light'},\n",
       " {'sadtalker': 'John Wick, a legendary assassin, stands in the middle of the street, his eyes cold and his face impassive. He is wearing a black suit and holding a gun in his hand. He says, <dialogue>\"I\\'m going to kill them all\"</dialogue> (male)., person, car, tie, umbrella'},\n",
       " {'animatediff': 'John Wick is a deadly assassin, known for his prowess in taking down his targets with precision and efficiency. He is a man on a mission, and he will stop at nothing to get what he wants. With his gun at the ready, he stalks the streets, searching for his next target., person, cell phone, tie'}]"
      ]
     },
     "execution_count": 4,
     "metadata": {},
     "output_type": "execute_result"
    }
   ],
   "source": [
    "formatted_llm_lines"
   ]
  }
 ],
 "metadata": {
  "kernelspec": {
   "display_name": ".venv",
   "language": "python",
   "name": "python3"
  },
  "language_info": {
   "codemirror_mode": {
    "name": "ipython",
    "version": 3
   },
   "file_extension": ".py",
   "mimetype": "text/x-python",
   "name": "python",
   "nbconvert_exporter": "python",
   "pygments_lexer": "ipython3",
   "version": "3.11.4"
  }
 },
 "nbformat": 4,
 "nbformat_minor": 2
}
