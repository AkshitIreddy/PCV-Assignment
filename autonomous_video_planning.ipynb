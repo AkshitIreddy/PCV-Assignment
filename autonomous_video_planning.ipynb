{
 "cells": [
  {
   "cell_type": "code",
   "execution_count": 1,
   "metadata": {},
   "outputs": [],
   "source": [
    "#uncomment the below lines to install packages\n",
    "#!pip install langchain cohere python-dotenv\n",
    "#!pip install diffusers --upgrade\n",
    "#pip install invisible_watermark transformers accelerate safetensors\n",
    "#install cuda 12.1\n",
    "#!pip3 install torch torchvision torchaudio --index-url https://download.pytorch.org/whl/cu121\n",
    "#create .env file to store cohere api key, copy the below line into the file\n",
    "#COHERE_API_KEY=apikey"
   ]
  },
  {
   "cell_type": "code",
   "execution_count": 2,
   "metadata": {},
   "outputs": [
    {
     "name": "stdout",
     "output_type": "stream",
     "text": [
      "Prompt being sent to the language model\n",
      "Instructions: Create a series of three cohesive scene descriptions that build upon each other, starting from an initial input. When presenting any dialogue, make sure to enclose it within <dialogue></dialogue> tags, with the speaker's name outside these tags. The dialogue should be the only content within these tags. It is crucial to include dialogue only in the second scene; the remaining scenes should not contain any dialogue. After the </dialogue> tag, maintain consistency by specifying the character's gender in brackets, like (male) or (female). In the second scene, it is essential to describe the facial features of a single character along with their dialogue. The first scene should focus on describing the environment rather than the character. THE SECOND SCENE MUST HAVE A <dialogue></dialogue> FOLLOWED BY (male/female). All the scenes must have the name of the character.\n",
      "\n",
      "\n",
      "Input: Samurai\n",
      "\n",
      "\n",
      "1. Begin with a vivid scene, Picture a serene setting with a high-quality view of a cherry blossom tree beside a beautiful pond.\n",
      "2. Now, introduce a middle-aged samurai named Jin. He has long and black hair, He is wearing a white kimono and is positioned at the center, holding a sword. He says <dialogue>\"I will train to become the best and strongest samurai in the entire world even if i have to train for eternity\"</dialogue> (male) .\n",
      "3. The samurai is practicing swinging his sword in a captivating display.\n",
      "\n",
      "\n",
      "Input: Coffee Barista\n",
      "\n",
      "\n",
      "1. Imagine a small, cozy coffee bar tucked away in a quiet corner of the city. The aroma of freshly brewed coffee wafts through the air, and the sound of a cappuccino machine hisses in the background.\n",
      "2. Meet Lily, the friendly coffee barista behind the counter. She has a warm smile and lively green eyes. She has blond and short hair. As she hands a customer their latte, she says, <dialogue>\"Enjoy your coffee! Let me know if you need anything else, have a nice day!\"</dialogue> (female).\n",
      "3. Lily deftly steams milk, expertly pours latte art, and efficiently manages the bustling coffee bar.\n",
      "\n",
      "\n",
      "Input: {input}\n",
      "    \n"
     ]
    },
    {
     "name": "stderr",
     "output_type": "stream",
     "text": [
      "Your text contains a trailing whitespace, which has been trimmed to ensure high quality generations.\n"
     ]
    },
    {
     "name": "stdout",
     "output_type": "stream",
     "text": [
      "response from language model\n",
      "1. Imagine a dark and gritty street in the heart of a city, the sounds of traffic and people bustling by. The scene is lit by the neon lights of nearby businesses.\n",
      "2. John Wick, a legendary assassin, stands in the middle of the street, his eyes cold and his face impassive. He is wearing a black suit and holding a gun in his hand. He says, <dialogue>\"I'm going to kill them all\"</dialogue> (male).\n",
      "3. John Wick is a deadly assassin, known for his prowess in taking down his targets with precision and efficiency. He is a man on a mission, and he will stop at nothing to get what he wants. With his gun at the ready, he stalks the streets, searching for his next target.\n",
      "Extracted response in structured form\n",
      "[{'animatediff': 'Imagine a dark and gritty street in the heart of a city, the sounds of traffic and people bustling by. The scene is lit by the neon lights of nearby businesses.'}, {'sadtalker': 'John Wick, a legendary assassin, stands in the middle of the street, his eyes cold and his face impassive. He is wearing a black suit and holding a gun in his hand. He says, <dialogue>\"I\\'m going to kill them all\"</dialogue> (male).'}, {'animatediff': 'John Wick is a deadly assassin, known for his prowess in taking down his targets with precision and efficiency. He is a man on a mission, and he will stop at nothing to get what he wants. With his gun at the ready, he stalks the streets, searching for his next target.'}]\n"
     ]
    },
    {
     "data": {
      "application/vnd.jupyter.widget-view+json": {
       "model_id": "3b481530feb94e72b315db0100228361",
       "version_major": 2,
       "version_minor": 0
      },
      "text/plain": [
       "Loading pipeline components...:   0%|          | 0/7 [00:00<?, ?it/s]"
      ]
     },
     "metadata": {},
     "output_type": "display_data"
    },
    {
     "data": {
      "application/vnd.jupyter.widget-view+json": {
       "model_id": "740c43ab7e3348faa35b100986b2e253",
       "version_major": 2,
       "version_minor": 0
      },
      "text/plain": [
       "  0%|          | 0/50 [00:00<?, ?it/s]"
      ]
     },
     "metadata": {},
     "output_type": "display_data"
    },
    {
     "data": {
      "application/vnd.jupyter.widget-view+json": {
       "model_id": "a65fde7bf637439f8909d726711721d7",
       "version_major": 2,
       "version_minor": 0
      },
      "text/plain": [
       "  0%|          | 0/50 [00:00<?, ?it/s]"
      ]
     },
     "metadata": {},
     "output_type": "display_data"
    },
    {
     "data": {
      "application/vnd.jupyter.widget-view+json": {
       "model_id": "8cca36394d3c4738a3b0ba44a5796c6b",
       "version_major": 2,
       "version_minor": 0
      },
      "text/plain": [
       "  0%|          | 0/50 [00:00<?, ?it/s]"
      ]
     },
     "metadata": {},
     "output_type": "display_data"
    },
    {
     "data": {
      "text/plain": [
       "([{'animatediff': 'Imagine a dark and gritty street in the heart of a city, the sounds of traffic and people bustling by. The scene is lit by the neon lights of nearby businesses.'},\n",
       "  {'sadtalker': 'John Wick, a legendary assassin, stands in the middle of the street, his eyes cold and his face impassive. He is wearing a black suit and holding a gun in his hand. He says, <dialogue>\"I\\'m going to kill them all\"</dialogue> (male).'},\n",
       "  {'animatediff': 'John Wick is a deadly assassin, known for his prowess in taking down his targets with precision and efficiency. He is a man on a mission, and he will stop at nothing to get what he wants. With his gun at the ready, he stalks the streets, searching for his next target.'}],\n",
       " 'reference_images/John Wick in the streets')"
      ]
     },
     "execution_count": 2,
     "metadata": {},
     "output_type": "execute_result"
    }
   ],
   "source": [
    "from langchain.llms import Cohere\n",
    "from langchain.prompts import PromptTemplate\n",
    "from langchain.chains import LLMChain\n",
    "from dotenv import load_dotenv\n",
    "import os\n",
    "from diffusers import DiffusionPipeline\n",
    "import torch\n",
    "\n",
    "load_dotenv(dotenv_path='.env')\n",
    "\n",
    "# To change n_detail you must change the instructions in template mentioning how many scene descriptions to create \n",
    "# and you will need to add more examples to match the number you are specifying\n",
    "n_detail = 3\n",
    "\n",
    "def generate_scene_descriptions(input):\n",
    "    \"\"\"\n",
    "    Generate scene descriptions based on an initial input using a template.\n",
    "\n",
    "    Args:\n",
    "        input (str): The input used to generate scene descriptions.\n",
    "\n",
    "    Returns:\n",
    "        list: A list of dictionaries, each containing a scene description.\n",
    "    \"\"\"\n",
    "\n",
    "    template = \"\"\"Instructions: Create a series of three cohesive scene descriptions that build upon each other, starting from an initial input. When presenting any dialogue, make sure to enclose it within <dialogue></dialogue> tags, with the speaker's name outside these tags. The dialogue should be the only content within these tags. It is crucial to include dialogue only in the second scene; the remaining scenes should not contain any dialogue. After the </dialogue> tag, maintain consistency by specifying the character's gender in brackets, like (male) or (female). In the second scene, it is essential to describe the facial features of a single character along with their dialogue. The first scene should focus on describing the environment rather than the character. THE SECOND SCENE MUST HAVE A <dialogue></dialogue> FOLLOWED BY (male/female). All the scenes must have the name of the character.\\n\\n\\nInput: Samurai\\n\\n\\n1. Begin with a vivid scene, Picture a serene setting with a high-quality view of a cherry blossom tree beside a beautiful pond.\\n2. Now, introduce a middle-aged samurai named Jin. He has long and black hair, He is wearing a white kimono and is positioned at the center, holding a sword. He says <dialogue>\"I will train to become the best and strongest samurai in the entire world even if i have to train for eternity\"</dialogue> (male) .\\n3. The samurai is practicing swinging his sword in a captivating display.\\n\\n\\nInput: Coffee Barista\\n\\n\\n1. Imagine a small, cozy coffee bar tucked away in a quiet corner of the city. The aroma of freshly brewed coffee wafts through the air, and the sound of a cappuccino machine hisses in the background.\\n2. Meet Lily, the friendly coffee barista behind the counter. She has a warm smile and lively green eyes. She has blond and short hair. As she hands a customer their latte, she says, <dialogue>\"Enjoy your coffee! Let me know if you need anything else, have a nice day!\"</dialogue> (female).\\n3. Lily deftly steams milk, expertly pours latte art, and efficiently manages the bustling coffee bar.\\n\\n\\nInput: {input}\n",
    "    \"\"\"\n",
    "    print(\"Prompt being sent to the language model\")\n",
    "    print(template)\n",
    "\n",
    "\n",
    "    prompt = PromptTemplate(template=template, input_variables=[\"input\"])\n",
    "\n",
    "    llm = Cohere(cohere_api_key=os.getenv(\"COHERE_API_KEY\") , stop=['\\n\\n\\n'], temperature=0.5, model='command')\n",
    "\n",
    "    llm_chain = LLMChain(prompt=prompt, llm=llm)\n",
    "\n",
    "    response = llm_chain.run(input)\n",
    "    print(\"response from language model\")\n",
    "    print(response)\n",
    "\n",
    "    llm_lines = response.split('\\n')\n",
    "    formatted_llm_lines = []\n",
    "    for line in llm_lines:\n",
    "        line = line.split('. ', 1)[1]  # Remove the starting number\n",
    "        if '<dialogue>' in line:\n",
    "            formatted_llm_lines.append({'sadtalker': line})\n",
    "        else:\n",
    "            formatted_llm_lines.append({'animatediff': line})\n",
    "    print(\"Extracted response in structured form\")\n",
    "    print(formatted_llm_lines)\n",
    "\n",
    "    return formatted_llm_lines\n",
    "\n",
    "def generate_images_and_save(texts, output_dir):\n",
    "    \"\"\"\n",
    "    Generate images from text descriptions and save them to an output directory.\n",
    "\n",
    "    Args:\n",
    "        texts (list): A list of text descriptions to generate images from.\n",
    "        output_dir (str): The directory where generated images will be saved.\n",
    "    \"\"\"\n",
    "\n",
    "    # Load the DiffusionPipeline model\n",
    "    pipe = DiffusionPipeline.from_pretrained(\"SG161222/RealVisXL_V2.0\", torch_dtype=torch.float16, use_safetensors=True, variant=\"fp16\")\n",
    "    pipe.to(\"cuda\")\n",
    "\n",
    "    for i, text_dict in enumerate(texts):\n",
    "        text = next(iter(text_dict.values()))  # Get the text from the dictionary\n",
    "        text =  \"4k, photorealistic, realistic\" + text\n",
    "\n",
    "        # Generate images from text\n",
    "        images = pipe(prompt=text).images[0]\n",
    "\n",
    "        # Create the output directory if it doesn't exist\n",
    "        os.makedirs(output_dir, exist_ok=True)\n",
    "\n",
    "        # Save generated images\n",
    "        images.save(f\"{output_dir}/{i + 1}.jpg\")\n",
    "\n",
    "def autonomous_video_planning(input):\n",
    "    \"\"\"\n",
    "    Perform autonomous video planning based on an initial input.\n",
    "\n",
    "    Args:\n",
    "        input (str): The initial input for video planning.\n",
    "\n",
    "    Returns:\n",
    "        tuple: A tuple containing the formatted scene descriptions and the output directory.\n",
    "    \"\"\"\n",
    "    \n",
    "    formatted_llm_lines = generate_scene_descriptions(input=input)\n",
    "    output_directory = f\"reference_images/{input}\"\n",
    "    generate_images_and_save(formatted_llm_lines, output_directory)\n",
    "    return formatted_llm_lines, output_directory\n",
    "\n",
    "# Example usage\n",
    "autonomous_video_planning(\"John Wick in the streets\")"
   ]
  },
  {
   "cell_type": "code",
   "execution_count": null,
   "metadata": {},
   "outputs": [],
   "source": []
  }
 ],
 "metadata": {
  "kernelspec": {
   "display_name": ".venv",
   "language": "python",
   "name": "python3"
  },
  "language_info": {
   "codemirror_mode": {
    "name": "ipython",
    "version": 3
   },
   "file_extension": ".py",
   "mimetype": "text/x-python",
   "name": "python",
   "nbconvert_exporter": "python",
   "pygments_lexer": "ipython3",
   "version": "3.11.4"
  }
 },
 "nbformat": 4,
 "nbformat_minor": 2
}
